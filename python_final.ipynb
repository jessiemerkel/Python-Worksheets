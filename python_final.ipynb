{
  "nbformat": 4,
  "nbformat_minor": 0,
  "metadata": {
    "colab": {
      "name": "python final",
      "provenance": [],
      "collapsed_sections": [],
      "include_colab_link": true
    },
    "kernelspec": {
      "name": "python3",
      "display_name": "Python 3"
    }
  },
  "cells": [
    {
      "cell_type": "markdown",
      "metadata": {
        "id": "view-in-github",
        "colab_type": "text"
      },
      "source": [
        "<a href=\"https://colab.research.google.com/github/jessiemerkel/Python-Worksheets/blob/master/python_final.ipynb\" target=\"_parent\"><img src=\"https://colab.research.google.com/assets/colab-badge.svg\" alt=\"Open In Colab\"/></a>"
      ]
    },
    {
      "cell_type": "markdown",
      "metadata": {
        "id": "ltIvVHCJtbkn"
      },
      "source": [
        "Look at the comments that people make in cat jobs and in turtle jobs. Are there differences in the way that people respond to cat jobs as compared to turtle jobs? For example, are people more likely to think that a cat is \"cute\" as compared to a \"turtle\"? (It would be sad if that were true, but it would be good to know)"
      ]
    },
    {
      "cell_type": "code",
      "metadata": {
        "colab": {
          "base_uri": "https://localhost:8080/"
        },
        "id": "DAIOLlIls-FQ",
        "outputId": "852b91c7-2ee5-4a43-fb82-31afd5e79141"
      },
      "source": [
        "!pip install -q praw\n",
        "import praw"
      ],
      "execution_count": null,
      "outputs": [
        {
          "output_type": "stream",
          "text": [
            "\u001b[K     |████████████████████████████████| 153kB 10.0MB/s \n",
            "\u001b[K     |████████████████████████████████| 204kB 13.1MB/s \n",
            "\u001b[?25h"
          ],
          "name": "stdout"
        }
      ]
    },
    {
      "cell_type": "code",
      "metadata": {
        "id": "VKFHrWZgs0vg"
      },
      "source": [
        "import praw\n",
        "\n",
        "reddit = praw.Reddit(client_id=\"f2Vk50qzGXHk2g\", client_secret=\"z00N7V1BCBM4p8nOC3FKNMJ3zcIJkA\", user_agent=\"NCF intro Python - http://www.github.com/mlepinski/Python-Worksheets\" )\n",
        "\n",
        "\n",
        "import urllib.request\n",
        "\n",
        "cat_sub = reddit.subreddit(\"catswithjobs\")\n",
        "turtle_sub = reddit.subreddit(\"turtleswithjobs\")"
      ],
      "execution_count": null,
      "outputs": []
    },
    {
      "cell_type": "code",
      "metadata": {
        "colab": {
          "base_uri": "https://localhost:8080/"
        },
        "id": "pxVREnIAsnqg",
        "outputId": "ef0282b9-4192-477b-f174-c35da57f00ec"
      },
      "source": [
        "highest = 0\n",
        "\n",
        "for submission in cat_sub.hot(limit=20):  # loops through the top 20 submissions\n",
        "  if (submission.score > highest):  # loops through the submissions upvotes to find the highest ones\n",
        "    highest = submission.score\n",
        "    highest_post = submission\n",
        "\n",
        "print(highest_post.title)  # Output: the submission's title\n",
        "print(highest_post.score)  # Output: the submission's score\n",
        "print(highest_post.id)    # Output: the submission's ID\n",
        "print(highest_post.url)  # Output: the submission's URL\n",
        "print(highest_post.comments)  # Output: the submission's comments"
      ],
      "execution_count": null,
      "outputs": [
        {
          "output_type": "stream",
          "text": [
            "Surprise visit from the health inspector\n",
            "9799\n",
            "kacr1p\n",
            "https://i.redd.it/xf66b5hz1c461.jpg\n",
            "<praw.models.comment_forest.CommentForest object at 0x7f2c76d7b588>\n"
          ],
          "name": "stdout"
        }
      ]
    },
    {
      "cell_type": "code",
      "metadata": {
        "id": "AIDYOa5WFEu0",
        "colab": {
          "base_uri": "https://localhost:8080/"
        },
        "outputId": "61b6b675-0f66-4213-850e-a4559e6881b3"
      },
      "source": [
        "def check_comments(sub):\r\n",
        "  word_list = []\r\n",
        "  for submission in sub.hot(limit=20):\r\n",
        "    for comment in submission.comments:\r\n",
        "      comment = comment.body.split()\r\n",
        "      for word in comment:\r\n",
        "        word_list.append(word)\r\n",
        "  return(word_list)\r\n",
        "\r\n",
        "def clean_up(words):\r\n",
        "  output = []\r\n",
        "  for word in words:\r\n",
        "    word = word.lower()\r\n",
        "    word = word.replace(\".\", \"\")\r\n",
        "    word = word.replace(\",\", \"\")\r\n",
        "    word = word.replace(\"?\", \"\")\r\n",
        "    word = word.replace(\"!\", \"\")\r\n",
        "    word = word.replace(\"(\", \"\")\r\n",
        "    word = word.replace(\")\", \"\")    \r\n",
        "    output.append(word)\r\n",
        "  return(output)\r\n",
        "\r\n",
        "def make_data(words):\r\n",
        "  tracker = {}\r\n",
        "  for word in words:\r\n",
        "    if word in tracker:\r\n",
        "      tracker[word] += 1\r\n",
        "    else:\r\n",
        "      tracker[word] = 1\r\n",
        "  return tracker\r\n",
        "\r\n",
        "print(make_data(good_words))\r\n",
        "\r\n",
        "cat_comments = check_comments(cat_sub)\r\n",
        "turt_comments = check_comments(turtle_sub)\r\n",
        "\r\n",
        "cat_clean = clean_up(cat_comments)\r\n",
        "turt_clean = clean_up(turt_comments)\r\n",
        "\r\n",
        "cat_data = make_data(cat_clean)\r\n",
        "turt_data = make_data(turt_clean)"
      ],
      "execution_count": null,
      "outputs": [
        {
          "output_type": "stream",
          "text": [
            "{'cute': 1, 'love': 1, 'like': 1, 'boi': 1, 'chonky': 1, 'happy': 1, 'lol': 1, 'lmao': 1, 'hehe': 1, 'haha': 1, 'ha': 1, 'hahaha': 1}\n"
          ],
          "name": "stdout"
        }
      ]
    },
    {
      "cell_type": "code",
      "metadata": {
        "id": "EHHkSunmSvyE"
      },
      "source": [
        "good_words = ['cute', 'love', 'like', 'boi', 'chonky', 'happy', 'lol', 'lmao', 'hehe', 'haha', 'ha', 'hahaha']\r\n",
        "bad_words = ['stinky', 'hate', 'fat', 'stupid', 'dumb']\r\n",
        "\r\n",
        "#gets all the relevant words into a dictionary\r\n",
        "def make_table(good_words, bad_words, cat_data, turt_data):\r\n",
        "  good_cat = {}\r\n",
        "  bad_cat = {}\r\n",
        "  good_turt = {}\r\n",
        "  bad_turt = {}\r\n",
        "  for word in good_words:\r\n",
        "    if word in cat_data:\r\n",
        "      good_cat[word] = cat_data[word]\r\n",
        "    if word in turt_data:\r\n",
        "      good_turt[word] = turt_data[word]\r\n",
        "  for word in bad_words:\r\n",
        "    if word in cat_data:\r\n",
        "      bad_cat[word] = cat_data[word]\r\n",
        "    if word in turt_data:\r\n",
        "      bad_turt[word] = turt_data[word]\r\n",
        "  return good_cat, bad_cat, good_turt, bad_turt\r\n",
        "\r\n",
        "def dict_to_list(dict):\r\n",
        "  word_list = []\r\n",
        "  for item in dict:\r\n",
        "    word_list.append(\" \" + item + \":\" + \" \" + str(dict[item]))\r\n",
        "\r\n",
        "  if int(len(dict)) == 0:\r\n",
        "    word_list.append(\"There are no words for this category :)\")\r\n",
        "  return word_list\r\n",
        "\r\n",
        "\r\n",
        "good_cat, bad_cat, good_turt, bad_turt = make_table(good_words, bad_words, cat_data, turt_data)\r\n",
        "\r\n",
        "good_cat_table = dict_to_list(good_cat)\r\n",
        "bad_cat_table = dict_to_list(bad_cat)\r\n",
        "good_turt_table = dict_to_list(good_turt)\r\n",
        "bad_turt_table = dict_to_list(bad_turt)\r\n"
      ],
      "execution_count": null,
      "outputs": []
    },
    {
      "cell_type": "code",
      "metadata": {
        "colab": {
          "base_uri": "https://localhost:8080/",
          "height": 542
        },
        "id": "iS1XI9floiJQ",
        "outputId": "09b732d3-0f5f-4b51-9c09-67b8e9ff050b"
      },
      "source": [
        "import plotly.graph_objects as go\r\n",
        "\r\n",
        "values = [['Good Words', 'Bad Words'], #1st col\r\n",
        "  [good_cat_table, bad_cat_table,],\r\n",
        "  [good_turt_table, bad_turt_table]]\r\n",
        "\r\n",
        "\r\n",
        "fig = go.Figure(data=[go.Table(\r\n",
        "  columnorder = [1,2,3],\r\n",
        "  columnwidth = [80,80],\r\n",
        "  header = dict(\r\n",
        "    values = [['<b>GOOD AND BAD COMMENTS</b><br>on top reddit posts'],\r\n",
        "                  ['<b>CATSWITHJOBS</b>'],\r\n",
        "                  ['<b>TURTLESWITHJOBS</b>']],\r\n",
        "    line_color='darkslategray',\r\n",
        "    fill_color='royalblue',\r\n",
        "    align=['left','center'],\r\n",
        "    font=dict(color='white', size=12),\r\n",
        "    height=40\r\n",
        "  ),\r\n",
        "  cells=dict(\r\n",
        "    values=values,\r\n",
        "    line_color='darkslategray',\r\n",
        "    fill=dict(color=['paleturquoise', 'white']),\r\n",
        "    align=['left', 'center'],\r\n",
        "    font_size=12,\r\n",
        "    height=30)\r\n",
        "    )\r\n",
        "])\r\n",
        "fig.show()"
      ],
      "execution_count": null,
      "outputs": [
        {
          "output_type": "display_data",
          "data": {
            "text/html": [
              "<html>\n",
              "<head><meta charset=\"utf-8\" /></head>\n",
              "<body>\n",
              "    <div>\n",
              "            <script src=\"https://cdnjs.cloudflare.com/ajax/libs/mathjax/2.7.5/MathJax.js?config=TeX-AMS-MML_SVG\"></script><script type=\"text/javascript\">if (window.MathJax) {MathJax.Hub.Config({SVG: {font: \"STIX-Web\"}});}</script>\n",
              "                <script type=\"text/javascript\">window.PlotlyConfig = {MathJaxConfig: 'local'};</script>\n",
              "        <script src=\"https://cdn.plot.ly/plotly-latest.min.js\"></script>    \n",
              "            <div id=\"a0e62c05-1975-403e-b873-3bbea5ec822e\" class=\"plotly-graph-div\" style=\"height:525px; width:100%;\"></div>\n",
              "            <script type=\"text/javascript\">\n",
              "                \n",
              "                    window.PLOTLYENV=window.PLOTLYENV || {};\n",
              "                    \n",
              "                if (document.getElementById(\"a0e62c05-1975-403e-b873-3bbea5ec822e\")) {\n",
              "                    Plotly.newPlot(\n",
              "                        'a0e62c05-1975-403e-b873-3bbea5ec822e',\n",
              "                        [{\"cells\": {\"align\": [\"left\", \"center\"], \"fill\": {\"color\": [\"paleturquoise\", \"white\"]}, \"font\": {\"size\": 12}, \"height\": 30, \"line\": {\"color\": \"darkslategray\"}, \"values\": [[\"Good Words\", \"Bad Words\"], [[\" cute: 5\", \" love: 4\", \" like: 10\", \" lol: 2\", \" lmao: 1\", \" haha: 1\"], [\"There are no words for this category :)\"]], [[\" cute: 1\", \" love: 1\", \" like: 2\", \" lol: 2\"], [\"There are no words for this category :)\"]]]}, \"columnorder\": [1, 2, 3], \"columnwidth\": [80, 80], \"header\": {\"align\": [\"left\", \"center\"], \"fill\": {\"color\": \"royalblue\"}, \"font\": {\"color\": \"white\", \"size\": 12}, \"height\": 40, \"line\": {\"color\": \"darkslategray\"}, \"values\": [[\"<b>GOOD AND BAD COMMENTS</b><br>on top reddit posts\"], [\"<b>CATSWITHJOBS</b>\"], [\"<b>TURTLESWITHJOBS</b>\"]]}, \"type\": \"table\"}],\n",
              "                        {\"template\": {\"data\": {\"bar\": [{\"error_x\": {\"color\": \"#2a3f5f\"}, \"error_y\": {\"color\": \"#2a3f5f\"}, \"marker\": {\"line\": {\"color\": \"#E5ECF6\", \"width\": 0.5}}, \"type\": \"bar\"}], \"barpolar\": [{\"marker\": {\"line\": {\"color\": \"#E5ECF6\", \"width\": 0.5}}, \"type\": \"barpolar\"}], \"carpet\": [{\"aaxis\": {\"endlinecolor\": \"#2a3f5f\", \"gridcolor\": \"white\", \"linecolor\": \"white\", \"minorgridcolor\": \"white\", \"startlinecolor\": \"#2a3f5f\"}, \"baxis\": {\"endlinecolor\": \"#2a3f5f\", \"gridcolor\": \"white\", \"linecolor\": \"white\", \"minorgridcolor\": \"white\", \"startlinecolor\": \"#2a3f5f\"}, \"type\": \"carpet\"}], \"choropleth\": [{\"colorbar\": {\"outlinewidth\": 0, \"ticks\": \"\"}, \"type\": \"choropleth\"}], \"contour\": [{\"colorbar\": {\"outlinewidth\": 0, \"ticks\": \"\"}, \"colorscale\": [[0.0, \"#0d0887\"], [0.1111111111111111, \"#46039f\"], [0.2222222222222222, \"#7201a8\"], [0.3333333333333333, \"#9c179e\"], [0.4444444444444444, \"#bd3786\"], [0.5555555555555556, \"#d8576b\"], [0.6666666666666666, \"#ed7953\"], [0.7777777777777778, \"#fb9f3a\"], [0.8888888888888888, \"#fdca26\"], [1.0, \"#f0f921\"]], \"type\": \"contour\"}], \"contourcarpet\": [{\"colorbar\": {\"outlinewidth\": 0, \"ticks\": \"\"}, \"type\": \"contourcarpet\"}], \"heatmap\": [{\"colorbar\": {\"outlinewidth\": 0, \"ticks\": \"\"}, \"colorscale\": [[0.0, \"#0d0887\"], [0.1111111111111111, \"#46039f\"], [0.2222222222222222, \"#7201a8\"], [0.3333333333333333, \"#9c179e\"], [0.4444444444444444, \"#bd3786\"], [0.5555555555555556, \"#d8576b\"], [0.6666666666666666, \"#ed7953\"], [0.7777777777777778, \"#fb9f3a\"], [0.8888888888888888, \"#fdca26\"], [1.0, \"#f0f921\"]], \"type\": \"heatmap\"}], \"heatmapgl\": [{\"colorbar\": {\"outlinewidth\": 0, \"ticks\": \"\"}, \"colorscale\": [[0.0, \"#0d0887\"], [0.1111111111111111, \"#46039f\"], [0.2222222222222222, \"#7201a8\"], [0.3333333333333333, \"#9c179e\"], [0.4444444444444444, \"#bd3786\"], [0.5555555555555556, \"#d8576b\"], [0.6666666666666666, \"#ed7953\"], [0.7777777777777778, \"#fb9f3a\"], [0.8888888888888888, \"#fdca26\"], [1.0, \"#f0f921\"]], \"type\": \"heatmapgl\"}], \"histogram\": [{\"marker\": {\"colorbar\": {\"outlinewidth\": 0, \"ticks\": \"\"}}, \"type\": \"histogram\"}], \"histogram2d\": [{\"colorbar\": {\"outlinewidth\": 0, \"ticks\": \"\"}, \"colorscale\": [[0.0, \"#0d0887\"], [0.1111111111111111, \"#46039f\"], [0.2222222222222222, \"#7201a8\"], [0.3333333333333333, \"#9c179e\"], [0.4444444444444444, \"#bd3786\"], [0.5555555555555556, \"#d8576b\"], [0.6666666666666666, \"#ed7953\"], [0.7777777777777778, \"#fb9f3a\"], [0.8888888888888888, \"#fdca26\"], [1.0, \"#f0f921\"]], \"type\": \"histogram2d\"}], \"histogram2dcontour\": [{\"colorbar\": {\"outlinewidth\": 0, \"ticks\": \"\"}, \"colorscale\": [[0.0, \"#0d0887\"], [0.1111111111111111, \"#46039f\"], [0.2222222222222222, \"#7201a8\"], [0.3333333333333333, \"#9c179e\"], [0.4444444444444444, \"#bd3786\"], [0.5555555555555556, \"#d8576b\"], [0.6666666666666666, \"#ed7953\"], [0.7777777777777778, \"#fb9f3a\"], [0.8888888888888888, \"#fdca26\"], [1.0, \"#f0f921\"]], \"type\": \"histogram2dcontour\"}], \"mesh3d\": [{\"colorbar\": {\"outlinewidth\": 0, \"ticks\": \"\"}, \"type\": \"mesh3d\"}], \"parcoords\": [{\"line\": {\"colorbar\": {\"outlinewidth\": 0, \"ticks\": \"\"}}, \"type\": \"parcoords\"}], \"pie\": [{\"automargin\": true, \"type\": \"pie\"}], \"scatter\": [{\"marker\": {\"colorbar\": {\"outlinewidth\": 0, \"ticks\": \"\"}}, \"type\": \"scatter\"}], \"scatter3d\": [{\"line\": {\"colorbar\": {\"outlinewidth\": 0, \"ticks\": \"\"}}, \"marker\": {\"colorbar\": {\"outlinewidth\": 0, \"ticks\": \"\"}}, \"type\": \"scatter3d\"}], \"scattercarpet\": [{\"marker\": {\"colorbar\": {\"outlinewidth\": 0, \"ticks\": \"\"}}, \"type\": \"scattercarpet\"}], \"scattergeo\": [{\"marker\": {\"colorbar\": {\"outlinewidth\": 0, \"ticks\": \"\"}}, \"type\": \"scattergeo\"}], \"scattergl\": [{\"marker\": {\"colorbar\": {\"outlinewidth\": 0, \"ticks\": \"\"}}, \"type\": \"scattergl\"}], \"scattermapbox\": [{\"marker\": {\"colorbar\": {\"outlinewidth\": 0, \"ticks\": \"\"}}, \"type\": \"scattermapbox\"}], \"scatterpolar\": [{\"marker\": {\"colorbar\": {\"outlinewidth\": 0, \"ticks\": \"\"}}, \"type\": \"scatterpolar\"}], \"scatterpolargl\": [{\"marker\": {\"colorbar\": {\"outlinewidth\": 0, \"ticks\": \"\"}}, \"type\": \"scatterpolargl\"}], \"scatterternary\": [{\"marker\": {\"colorbar\": {\"outlinewidth\": 0, \"ticks\": \"\"}}, \"type\": \"scatterternary\"}], \"surface\": [{\"colorbar\": {\"outlinewidth\": 0, \"ticks\": \"\"}, \"colorscale\": [[0.0, \"#0d0887\"], [0.1111111111111111, \"#46039f\"], [0.2222222222222222, \"#7201a8\"], [0.3333333333333333, \"#9c179e\"], [0.4444444444444444, \"#bd3786\"], [0.5555555555555556, \"#d8576b\"], [0.6666666666666666, \"#ed7953\"], [0.7777777777777778, \"#fb9f3a\"], [0.8888888888888888, \"#fdca26\"], [1.0, \"#f0f921\"]], \"type\": \"surface\"}], \"table\": [{\"cells\": {\"fill\": {\"color\": \"#EBF0F8\"}, \"line\": {\"color\": \"white\"}}, \"header\": {\"fill\": {\"color\": \"#C8D4E3\"}, \"line\": {\"color\": \"white\"}}, \"type\": \"table\"}]}, \"layout\": {\"annotationdefaults\": {\"arrowcolor\": \"#2a3f5f\", \"arrowhead\": 0, \"arrowwidth\": 1}, \"coloraxis\": {\"colorbar\": {\"outlinewidth\": 0, \"ticks\": \"\"}}, \"colorscale\": {\"diverging\": [[0, \"#8e0152\"], [0.1, \"#c51b7d\"], [0.2, \"#de77ae\"], [0.3, \"#f1b6da\"], [0.4, \"#fde0ef\"], [0.5, \"#f7f7f7\"], [0.6, \"#e6f5d0\"], [0.7, \"#b8e186\"], [0.8, \"#7fbc41\"], [0.9, \"#4d9221\"], [1, \"#276419\"]], \"sequential\": [[0.0, \"#0d0887\"], [0.1111111111111111, \"#46039f\"], [0.2222222222222222, \"#7201a8\"], [0.3333333333333333, \"#9c179e\"], [0.4444444444444444, \"#bd3786\"], [0.5555555555555556, \"#d8576b\"], [0.6666666666666666, \"#ed7953\"], [0.7777777777777778, \"#fb9f3a\"], [0.8888888888888888, \"#fdca26\"], [1.0, \"#f0f921\"]], \"sequentialminus\": [[0.0, \"#0d0887\"], [0.1111111111111111, \"#46039f\"], [0.2222222222222222, \"#7201a8\"], [0.3333333333333333, \"#9c179e\"], [0.4444444444444444, \"#bd3786\"], [0.5555555555555556, \"#d8576b\"], [0.6666666666666666, \"#ed7953\"], [0.7777777777777778, \"#fb9f3a\"], [0.8888888888888888, \"#fdca26\"], [1.0, \"#f0f921\"]]}, \"colorway\": [\"#636efa\", \"#EF553B\", \"#00cc96\", \"#ab63fa\", \"#FFA15A\", \"#19d3f3\", \"#FF6692\", \"#B6E880\", \"#FF97FF\", \"#FECB52\"], \"font\": {\"color\": \"#2a3f5f\"}, \"geo\": {\"bgcolor\": \"white\", \"lakecolor\": \"white\", \"landcolor\": \"#E5ECF6\", \"showlakes\": true, \"showland\": true, \"subunitcolor\": \"white\"}, \"hoverlabel\": {\"align\": \"left\"}, \"hovermode\": \"closest\", \"mapbox\": {\"style\": \"light\"}, \"paper_bgcolor\": \"white\", \"plot_bgcolor\": \"#E5ECF6\", \"polar\": {\"angularaxis\": {\"gridcolor\": \"white\", \"linecolor\": \"white\", \"ticks\": \"\"}, \"bgcolor\": \"#E5ECF6\", \"radialaxis\": {\"gridcolor\": \"white\", \"linecolor\": \"white\", \"ticks\": \"\"}}, \"scene\": {\"xaxis\": {\"backgroundcolor\": \"#E5ECF6\", \"gridcolor\": \"white\", \"gridwidth\": 2, \"linecolor\": \"white\", \"showbackground\": true, \"ticks\": \"\", \"zerolinecolor\": \"white\"}, \"yaxis\": {\"backgroundcolor\": \"#E5ECF6\", \"gridcolor\": \"white\", \"gridwidth\": 2, \"linecolor\": \"white\", \"showbackground\": true, \"ticks\": \"\", \"zerolinecolor\": \"white\"}, \"zaxis\": {\"backgroundcolor\": \"#E5ECF6\", \"gridcolor\": \"white\", \"gridwidth\": 2, \"linecolor\": \"white\", \"showbackground\": true, \"ticks\": \"\", \"zerolinecolor\": \"white\"}}, \"shapedefaults\": {\"line\": {\"color\": \"#2a3f5f\"}}, \"ternary\": {\"aaxis\": {\"gridcolor\": \"white\", \"linecolor\": \"white\", \"ticks\": \"\"}, \"baxis\": {\"gridcolor\": \"white\", \"linecolor\": \"white\", \"ticks\": \"\"}, \"bgcolor\": \"#E5ECF6\", \"caxis\": {\"gridcolor\": \"white\", \"linecolor\": \"white\", \"ticks\": \"\"}}, \"title\": {\"x\": 0.05}, \"xaxis\": {\"automargin\": true, \"gridcolor\": \"white\", \"linecolor\": \"white\", \"ticks\": \"\", \"title\": {\"standoff\": 15}, \"zerolinecolor\": \"white\", \"zerolinewidth\": 2}, \"yaxis\": {\"automargin\": true, \"gridcolor\": \"white\", \"linecolor\": \"white\", \"ticks\": \"\", \"title\": {\"standoff\": 15}, \"zerolinecolor\": \"white\", \"zerolinewidth\": 2}}}},\n",
              "                        {\"responsive\": true}\n",
              "                    ).then(function(){\n",
              "                            \n",
              "var gd = document.getElementById('a0e62c05-1975-403e-b873-3bbea5ec822e');\n",
              "var x = new MutationObserver(function (mutations, observer) {{\n",
              "        var display = window.getComputedStyle(gd).display;\n",
              "        if (!display || display === 'none') {{\n",
              "            console.log([gd, 'removed!']);\n",
              "            Plotly.purge(gd);\n",
              "            observer.disconnect();\n",
              "        }}\n",
              "}});\n",
              "\n",
              "// Listen for the removal of the full notebook cells\n",
              "var notebookContainer = gd.closest('#notebook-container');\n",
              "if (notebookContainer) {{\n",
              "    x.observe(notebookContainer, {childList: true});\n",
              "}}\n",
              "\n",
              "// Listen for the clearing of the current output cell\n",
              "var outputEl = gd.closest('.output');\n",
              "if (outputEl) {{\n",
              "    x.observe(outputEl, {childList: true});\n",
              "}}\n",
              "\n",
              "                        })\n",
              "                };\n",
              "                \n",
              "            </script>\n",
              "        </div>\n",
              "</body>\n",
              "</html>"
            ]
          },
          "metadata": {
            "tags": []
          }
        }
      ]
    }
  ]
}